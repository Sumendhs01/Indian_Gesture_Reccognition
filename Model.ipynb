{
 "cells": [
  {
   "cell_type": "code",
   "execution_count": 1,
   "metadata": {},
   "outputs": [],
   "source": [
    "import cv2\n",
    "import numpy as np\n",
    "import os\n",
    "from matplotlib import pyplot as plt\n",
    "import time\n",
    "import mediapipe as mp\n",
    "    \n",
    "\n"
   ]
  },
  {
   "cell_type": "code",
   "execution_count": 2,
   "metadata": {},
   "outputs": [],
   "source": [
    "def data_map(wod):\n",
    "    os.chdir(wod)\n",
    "    labelmap={}\n",
    "    labels=[]\n",
    "    actions=[]\n",
    "    act_vid={}\n",
    "    for i in os.listdir(os.getcwd()):\n",
    "        labels.append(i)\n",
    "        action=os.listdir(os.path.join(wd,i))\n",
    "        actions.extend(action)\n",
    "        labelmap[i]=action\n",
    "        for j in os.listdir(os.path.join(os.getcwd(),i)):\n",
    "            act_vid[j]=os.listdir(os.path.join(os.getcwd(),i,j))\n",
    "    return(labelmap,labels,actions,act_vid)\n",
    "\n",
    "#data_map(wd)"
   ]
  },
  {
   "cell_type": "code",
   "execution_count": 3,
   "metadata": {},
   "outputs": [],
   "source": [
    "# Path for exported data, numpy arrays\n",
    "import os\n",
    "DATA_PATH = 'C:\\\\Users\\\\sumen\\\\Downloads\\\\Final_Project\\\\dataset_preprocess'\n",
    "wd='C:\\\\Users\\\\sumen\\\\Downloads\\\\Final_Project\\\\Dataset'\n",
    "real_path='C:\\\\Users\\\\sumen\\\\Downloads\\\\Final_Project'\n",
    "ds_path='C:\\\\Users\\\\sumen\\\\Downloads\\\\Final_Project\\\\dataset_final'\n",
    "os.chdir(wd)\n",
    "\n",
    "# Actions that we try to detect\n",
    "labelmap,label,actions,actvid=data_map(wd)\n",
    "# actions = np.array([i for i in os.listdir('C:\\\\Msc DS\\\\SignLanguageDetection\\\\Adjectives')])\n",
    "#print(actions)\n",
    "\n",
    "# Thirty videos worth of data\n",
    "no_sequences = 30\n",
    "\n",
    "# Videos are going to be 30 frames in length\n",
    "sequence_length = 30\n",
    "\n",
    "# Folder start\n",
    "start_folder = 30\n",
    "\n"
   ]
  },
  {
   "cell_type": "code",
   "execution_count": 4,
   "metadata": {},
   "outputs": [],
   "source": [
    "os.chdir(ds_path)\n",
    "X=np.load('sequences.npy')\n",
    "y=np.load('labels.npy')\n",
    "\n",
    "    "
   ]
  },
  {
   "cell_type": "code",
   "execution_count": 5,
   "metadata": {},
   "outputs": [],
   "source": [
    "dX = np.concatenate((X,X),axis=0)\n",
    "dy=np.concatenate((y,y),axis=0)"
   ]
  },
  {
   "cell_type": "markdown",
   "metadata": {},
   "source": [
    "## Preprocessing"
   ]
  },
  {
   "cell_type": "code",
   "execution_count": 6,
   "metadata": {},
   "outputs": [],
   "source": [
    "from sklearn.model_selection import train_test_split\n",
    "from tensorflow.keras.utils import to_categorical"
   ]
  },
  {
   "cell_type": "code",
   "execution_count": 7,
   "metadata": {},
   "outputs": [],
   "source": [
    "dy=to_categorical(dy).astype(int)"
   ]
  },
  {
   "cell_type": "code",
   "execution_count": 8,
   "metadata": {},
   "outputs": [
    {
     "data": {
      "text/plain": [
       "(15480, 258)"
      ]
     },
     "execution_count": 8,
     "metadata": {},
     "output_type": "execute_result"
    }
   ],
   "source": [
    "dy.shape"
   ]
  },
  {
   "cell_type": "code",
   "execution_count": 9,
   "metadata": {},
   "outputs": [],
   "source": [
    "X_train, X_test, y_train, y_test = train_test_split(dX, dy, test_size=0.2, random_state = 7, shuffle=True)"
   ]
  },
  {
   "cell_type": "code",
   "execution_count": 10,
   "metadata": {},
   "outputs": [
    {
     "data": {
      "text/plain": [
       "(12384, 30, 1662)"
      ]
     },
     "execution_count": 10,
     "metadata": {},
     "output_type": "execute_result"
    }
   ],
   "source": [
    "X_train.shape"
   ]
  },
  {
   "cell_type": "code",
   "execution_count": 11,
   "metadata": {},
   "outputs": [
    {
     "data": {
      "text/plain": [
       "(3096, 258)"
      ]
     },
     "execution_count": 11,
     "metadata": {},
     "output_type": "execute_result"
    }
   ],
   "source": [
    "y_test.shape"
   ]
  },
  {
   "cell_type": "markdown",
   "metadata": {},
   "source": [
    "## Model Developement"
   ]
  },
  {
   "cell_type": "code",
   "execution_count": 12,
   "metadata": {},
   "outputs": [
    {
     "ename": "ModuleNotFoundError",
     "evalue": "No module named 'tf'",
     "output_type": "error",
     "traceback": [
      "\u001b[1;31m---------------------------------------------------------------------------\u001b[0m",
      "\u001b[1;31mModuleNotFoundError\u001b[0m                       Traceback (most recent call last)",
      "\u001b[1;32mc:\\Users\\sumen\\Downloads\\Final_Project\\Model.ipynb Cell 14\u001b[0m line \u001b[0;36m6\n\u001b[0;32m      <a href='vscode-notebook-cell:/c%3A/Users/sumen/Downloads/Final_Project/Model.ipynb#X16sZmlsZQ%3D%3D?line=3'>4</a>\u001b[0m \u001b[39m# from tensorflow.keras import Activation\u001b[39;00m\n\u001b[0;32m      <a href='vscode-notebook-cell:/c%3A/Users/sumen/Downloads/Final_Project/Model.ipynb#X16sZmlsZQ%3D%3D?line=4'>5</a>\u001b[0m \u001b[39mimport\u001b[39;00m \u001b[39mtensorflow\u001b[39;00m \u001b[39mas\u001b[39;00m \u001b[39mtf\u001b[39;00m\n\u001b[1;32m----> <a href='vscode-notebook-cell:/c%3A/Users/sumen/Downloads/Final_Project/Model.ipynb#X16sZmlsZQ%3D%3D?line=5'>6</a>\u001b[0m \u001b[39mfrom\u001b[39;00m \u001b[39mtf\u001b[39;00m \u001b[39mimport\u001b[39;00m EarlyStopping\n",
      "\u001b[1;31mModuleNotFoundError\u001b[0m: No module named 'tf'"
     ]
    }
   ],
   "source": [
    "from tensorflow.keras.models import Sequential\n",
    "from tensorflow.keras.layers import LSTM, Dense, BatchNormalization, Dropout\n",
    "from tensorflow.keras.layers import Bidirectional, LSTM\n",
    "# from tensorflow.keras import Activation\n",
    "import tensorflow as tf\n",
    "from tf import EarlyStopping\n"
   ]
  },
  {
   "cell_type": "code",
   "execution_count": 13,
   "metadata": {},
   "outputs": [],
   "source": [
    "from tensorflow.keras.callbacks import TensorBoard\n",
    "log_dir = os.path.join('Logs')\n",
    "tb_callback = TensorBoard(log_dir=log_dir)"
   ]
  },
  {
   "cell_type": "code",
   "execution_count": 14,
   "metadata": {},
   "outputs": [],
   "source": [
    "model = Sequential()\n",
    "model.add(Bidirectional(LSTM(256, return_sequences=True, input_shape=(30, 1662),activation='relu',kernel_regularizer=tf.keras.regularizers.l2(0.01))))\n",
    "model.add(BatchNormalization())\n",
    "# model.add(Activation('relu'))\n",
    "model.add(Dropout(0.2))\n",
    "\n",
    "model.add(Bidirectional(LSTM(128, return_sequences=True,activation='relu',kernel_regularizer=tf.keras.regularizers.l2(0.01))))\n",
    "model.add(BatchNormalization())\n",
    "# model.add(Activation('relu'))\n",
    "model.add(Dropout(0.2))\n",
    "\n",
    "model.add(Bidirectional(LSTM(128, return_sequences=False,activation='relu',kernel_regularizer=tf.keras.regularizers.l2(0.01))))\n",
    "model.add(BatchNormalization())\n",
    "# model.add(Activation('relu'))\n",
    "model.add(Dropout(0.2))\n",
    "\n",
    "model.add(Dense(128, activation='relu',kernel_regularizer=tf.keras.regularizers.l2(0.01)))\n",
    "model.add(BatchNormalization())\n",
    "model.add(Dropout(0.2))\n",
    "\n",
    "model.add(Dense(64, activation='relu',kernel_regularizer=tf.keras.regularizers.l2(0.01)))\n",
    "model.add(BatchNormalization())\n",
    "model.add(Dropout(0.5))\n",
    "\n",
    "model.add(Dense(len(actions), activation='softmax'))"
   ]
  },
  {
   "cell_type": "code",
   "execution_count": 15,
   "metadata": {},
   "outputs": [],
   "source": [
    "model.compile(optimizer='Adam', loss='categorical_crossentropy', metrics=['categorical_accuracy'])"
   ]
  },
  {
   "cell_type": "code",
   "execution_count": 16,
   "metadata": {},
   "outputs": [
    {
     "name": "stdout",
     "output_type": "stream",
     "text": [
      "Epoch 1/300\n",
      "310/310 [==============================] - 175s 533ms/step - loss: 33.6095 - categorical_accuracy: 0.0041 - val_loss: 28.0081 - val_categorical_accuracy: 0.0028\n",
      "Epoch 2/300\n",
      "310/310 [==============================] - 169s 545ms/step - loss: 25.1358 - categorical_accuracy: 0.0063 - val_loss: 22.9691 - val_categorical_accuracy: 0.0073\n",
      "Epoch 3/300\n",
      "310/310 [==============================] - 166s 536ms/step - loss: 21.3600 - categorical_accuracy: 0.0121 - val_loss: 20.2493 - val_categorical_accuracy: 0.0089\n",
      "Epoch 4/300\n",
      "310/310 [==============================] - 165s 533ms/step - loss: 19.0602 - categorical_accuracy: 0.0157 - val_loss: 19.0819 - val_categorical_accuracy: 0.0036\n",
      "Epoch 5/300\n",
      "310/310 [==============================] - 164s 529ms/step - loss: 17.3959 - categorical_accuracy: 0.0165 - val_loss: 17.3482 - val_categorical_accuracy: 0.0089\n",
      "Epoch 6/300\n",
      "310/310 [==============================] - 167s 540ms/step - loss: 16.1125 - categorical_accuracy: 0.0228 - val_loss: 16.2646 - val_categorical_accuracy: 0.0121\n",
      "Epoch 7/300\n",
      "310/310 [==============================] - 172s 555ms/step - loss: 15.0125 - categorical_accuracy: 0.0313 - val_loss: 14.7214 - val_categorical_accuracy: 0.0238\n",
      "Epoch 8/300\n",
      "310/310 [==============================] - 168s 542ms/step - loss: 14.0319 - categorical_accuracy: 0.0404 - val_loss: 14.6516 - val_categorical_accuracy: 0.0117\n",
      "Epoch 9/300\n",
      "310/310 [==============================] - 169s 546ms/step - loss: 13.1701 - categorical_accuracy: 0.0403 - val_loss: 14.3248 - val_categorical_accuracy: 0.0125\n",
      "Epoch 10/300\n",
      "310/310 [==============================] - 167s 538ms/step - loss: 12.4688 - categorical_accuracy: 0.0476 - val_loss: 13.2460 - val_categorical_accuracy: 0.0121\n",
      "Epoch 11/300\n",
      "310/310 [==============================] - 508s 2s/step - loss: 12.1356 - categorical_accuracy: 0.0514 - val_loss: 13.6149 - val_categorical_accuracy: 0.0149\n",
      "Epoch 12/300\n",
      "310/310 [==============================] - 285s 920ms/step - loss: 11.3718 - categorical_accuracy: 0.0590 - val_loss: 11.5317 - val_categorical_accuracy: 0.0258\n",
      "Epoch 13/300\n",
      "310/310 [==============================] - 278s 898ms/step - loss: 10.6276 - categorical_accuracy: 0.0685 - val_loss: 21.0222 - val_categorical_accuracy: 0.0077\n",
      "Epoch 14/300\n",
      "310/310 [==============================] - 280s 903ms/step - loss: 9.9715 - categorical_accuracy: 0.0736 - val_loss: 14.9293 - val_categorical_accuracy: 0.0061\n",
      "Epoch 15/300\n",
      "310/310 [==============================] - 283s 914ms/step - loss: 9.3851 - categorical_accuracy: 0.0885 - val_loss: 11.8892 - val_categorical_accuracy: 0.0109\n",
      "Epoch 16/300\n",
      "310/310 [==============================] - 279s 899ms/step - loss: 8.8325 - categorical_accuracy: 0.0922 - val_loss: 10.4406 - val_categorical_accuracy: 0.0246\n",
      "Epoch 17/300\n",
      "310/310 [==============================] - 274s 886ms/step - loss: 8.3538 - categorical_accuracy: 0.0971 - val_loss: 49.5904 - val_categorical_accuracy: 0.0057\n",
      "Epoch 18/300\n",
      "310/310 [==============================] - 278s 898ms/step - loss: 7.9376 - categorical_accuracy: 0.1062 - val_loss: 17.0880 - val_categorical_accuracy: 0.0101\n",
      "Epoch 19/300\n",
      "310/310 [==============================] - 6040s 20s/step - loss: 7.7586 - categorical_accuracy: 0.1033 - val_loss: 182.9727 - val_categorical_accuracy: 0.0040\n",
      "Epoch 20/300\n",
      "310/310 [==============================] - 198s 638ms/step - loss: 7.1832 - categorical_accuracy: 0.1195 - val_loss: 10.3109 - val_categorical_accuracy: 0.0170\n",
      "Epoch 21/300\n",
      "310/310 [==============================] - 203s 654ms/step - loss: 7.7294 - categorical_accuracy: 0.1047 - val_loss: 16.9211 - val_categorical_accuracy: 0.0036\n",
      "Epoch 22/300\n",
      "310/310 [==============================] - 205s 663ms/step - loss: 8.0008 - categorical_accuracy: 0.1041 - val_loss: 9.4958 - val_categorical_accuracy: 0.0145\n",
      "Epoch 23/300\n",
      "310/310 [==============================] - 210s 679ms/step - loss: 7.1500 - categorical_accuracy: 0.1158 - val_loss: 9.5516 - val_categorical_accuracy: 0.0129\n",
      "Epoch 24/300\n",
      "310/310 [==============================] - 209s 675ms/step - loss: 6.6643 - categorical_accuracy: 0.1216 - val_loss: 9.8292 - val_categorical_accuracy: 0.0149\n",
      "Epoch 25/300\n",
      "310/310 [==============================] - 203s 655ms/step - loss: 6.2709 - categorical_accuracy: 0.1355 - val_loss: 9.5879 - val_categorical_accuracy: 0.0117\n",
      "Epoch 26/300\n",
      "310/310 [==============================] - 202s 652ms/step - loss: 5.9530 - categorical_accuracy: 0.1347 - val_loss: 9.1872 - val_categorical_accuracy: 0.0093\n",
      "Epoch 27/300\n",
      "310/310 [==============================] - 234s 754ms/step - loss: 5.6774 - categorical_accuracy: 0.1355 - val_loss: 7.5416 - val_categorical_accuracy: 0.0351\n",
      "Epoch 28/300\n",
      "310/310 [==============================] - 263s 850ms/step - loss: 5.3812 - categorical_accuracy: 0.1514 - val_loss: 18.4057 - val_categorical_accuracy: 0.0069\n",
      "Epoch 29/300\n",
      "310/310 [==============================] - 203s 656ms/step - loss: 5.1774 - categorical_accuracy: 0.1522 - val_loss: 6.6000 - val_categorical_accuracy: 0.0642\n",
      "Epoch 30/300\n",
      "310/310 [==============================] - 219s 707ms/step - loss: 4.9388 - categorical_accuracy: 0.1649 - val_loss: 12.5963 - val_categorical_accuracy: 0.0170\n",
      "Epoch 31/300\n",
      "310/310 [==============================] - 217s 700ms/step - loss: 4.8470 - categorical_accuracy: 0.1576 - val_loss: 16.9071 - val_categorical_accuracy: 0.0073\n",
      "Epoch 32/300\n",
      "310/310 [==============================] - 218s 703ms/step - loss: 4.6155 - categorical_accuracy: 0.1730 - val_loss: 17.6530 - val_categorical_accuracy: 0.0048\n",
      "Epoch 33/300\n",
      "310/310 [==============================] - 223s 719ms/step - loss: 4.4458 - categorical_accuracy: 0.1765 - val_loss: 5.6619 - val_categorical_accuracy: 0.0747\n",
      "Epoch 34/300\n",
      "310/310 [==============================] - 217s 699ms/step - loss: 4.2771 - categorical_accuracy: 0.1834 - val_loss: 7.5050 - val_categorical_accuracy: 0.0206\n",
      "Epoch 35/300\n",
      "310/310 [==============================] - 253s 815ms/step - loss: 4.1803 - categorical_accuracy: 0.1886 - val_loss: 8.9783 - val_categorical_accuracy: 0.0218\n",
      "Epoch 36/300\n",
      "310/310 [==============================] - 214s 691ms/step - loss: 4.1388 - categorical_accuracy: 0.1853 - val_loss: 15.6795 - val_categorical_accuracy: 0.0149\n",
      "Epoch 37/300\n",
      "310/310 [==============================] - 220s 709ms/step - loss: 4.0790 - categorical_accuracy: 0.1829 - val_loss: 8.3884 - val_categorical_accuracy: 0.0307\n",
      "Epoch 38/300\n",
      "310/310 [==============================] - 234s 756ms/step - loss: 3.9113 - categorical_accuracy: 0.1956 - val_loss: 11.4109 - val_categorical_accuracy: 0.0085\n",
      "Epoch 39/300\n",
      "310/310 [==============================] - 178s 573ms/step - loss: 3.8503 - categorical_accuracy: 0.2054 - val_loss: 7.5030 - val_categorical_accuracy: 0.0283\n",
      "Epoch 40/300\n",
      "310/310 [==============================] - 175s 564ms/step - loss: 3.7082 - categorical_accuracy: 0.2094 - val_loss: 8.5478 - val_categorical_accuracy: 0.0166\n",
      "Epoch 41/300\n",
      "310/310 [==============================] - 178s 574ms/step - loss: 3.7216 - categorical_accuracy: 0.2042 - val_loss: 9.4964 - val_categorical_accuracy: 0.0202\n",
      "Epoch 42/300\n",
      "310/310 [==============================] - 177s 572ms/step - loss: 3.6291 - categorical_accuracy: 0.2130 - val_loss: 7.3005 - val_categorical_accuracy: 0.0287\n",
      "Epoch 43/300\n",
      "310/310 [==============================] - 174s 562ms/step - loss: 3.5424 - categorical_accuracy: 0.2127 - val_loss: 13.5780 - val_categorical_accuracy: 0.0089\n",
      "Epoch 44/300\n",
      "310/310 [==============================] - 175s 565ms/step - loss: 3.5010 - categorical_accuracy: 0.2245 - val_loss: 14.6055 - val_categorical_accuracy: 0.0048\n",
      "Epoch 45/300\n",
      "310/310 [==============================] - 174s 561ms/step - loss: 3.5244 - categorical_accuracy: 0.2201 - val_loss: 5.8154 - val_categorical_accuracy: 0.0630\n",
      "Epoch 46/300\n",
      "310/310 [==============================] - 174s 562ms/step - loss: 3.4453 - categorical_accuracy: 0.2249 - val_loss: 13.8591 - val_categorical_accuracy: 0.0109\n",
      "Epoch 47/300\n",
      "310/310 [==============================] - 174s 561ms/step - loss: 3.3970 - categorical_accuracy: 0.2331 - val_loss: 21.9346 - val_categorical_accuracy: 0.0044\n",
      "Epoch 48/300\n",
      "310/310 [==============================] - 176s 567ms/step - loss: 3.4252 - categorical_accuracy: 0.2333 - val_loss: 11.2255 - val_categorical_accuracy: 0.0182\n",
      "Epoch 49/300\n",
      "310/310 [==============================] - 177s 570ms/step - loss: 3.3086 - categorical_accuracy: 0.2425 - val_loss: 8.7782 - val_categorical_accuracy: 0.0157\n",
      "Epoch 50/300\n",
      "310/310 [==============================] - 179s 579ms/step - loss: 3.3052 - categorical_accuracy: 0.2418 - val_loss: 21.5204 - val_categorical_accuracy: 0.0089\n",
      "Epoch 51/300\n",
      "310/310 [==============================] - 180s 580ms/step - loss: 3.3052 - categorical_accuracy: 0.2414 - val_loss: 3459101184.0000 - val_categorical_accuracy: 0.0024\n",
      "Epoch 52/300\n",
      "310/310 [==============================] - 181s 585ms/step - loss: 3.2634 - categorical_accuracy: 0.2526 - val_loss: 6.2616 - val_categorical_accuracy: 0.0384\n",
      "Epoch 53/300\n",
      "310/310 [==============================] - 182s 588ms/step - loss: 3.1741 - categorical_accuracy: 0.2559 - val_loss: 8.7560 - val_categorical_accuracy: 0.0226\n",
      "Epoch 54/300\n",
      "310/310 [==============================] - 177s 573ms/step - loss: 3.1392 - categorical_accuracy: 0.2606 - val_loss: 8.2500 - val_categorical_accuracy: 0.0222\n",
      "Epoch 55/300\n",
      "310/310 [==============================] - 178s 575ms/step - loss: 3.2120 - categorical_accuracy: 0.2633 - val_loss: 12.4185 - val_categorical_accuracy: 0.0182\n",
      "Epoch 56/300\n",
      "310/310 [==============================] - 189s 608ms/step - loss: 3.1272 - categorical_accuracy: 0.2720 - val_loss: 11.6699 - val_categorical_accuracy: 0.0145\n",
      "Epoch 57/300\n",
      "310/310 [==============================] - 187s 605ms/step - loss: 3.2908 - categorical_accuracy: 0.2627 - val_loss: 10.5357 - val_categorical_accuracy: 0.0174\n",
      "Epoch 58/300\n",
      "310/310 [==============================] - 184s 594ms/step - loss: 3.1686 - categorical_accuracy: 0.2782 - val_loss: 24.5913 - val_categorical_accuracy: 0.0089\n",
      "Epoch 59/300\n",
      "310/310 [==============================] - 180s 582ms/step - loss: 3.1495 - categorical_accuracy: 0.2735 - val_loss: 16.7718 - val_categorical_accuracy: 0.0044\n",
      "Epoch 60/300\n",
      "310/310 [==============================] - 176s 568ms/step - loss: 3.1296 - categorical_accuracy: 0.2727 - val_loss: 11.7061 - val_categorical_accuracy: 0.0266\n",
      "Epoch 61/300\n",
      "310/310 [==============================] - 180s 580ms/step - loss: 3.1074 - categorical_accuracy: 0.2813 - val_loss: 4.9608 - val_categorical_accuracy: 0.1276\n",
      "Epoch 62/300\n",
      "310/310 [==============================] - 178s 574ms/step - loss: 3.1032 - categorical_accuracy: 0.2851 - val_loss: 19.1576 - val_categorical_accuracy: 0.0109\n",
      "Epoch 63/300\n",
      "310/310 [==============================] - 179s 577ms/step - loss: 3.1233 - categorical_accuracy: 0.2788 - val_loss: 8.5604 - val_categorical_accuracy: 0.0258\n",
      "Epoch 64/300\n",
      "310/310 [==============================] - 176s 569ms/step - loss: 3.0528 - categorical_accuracy: 0.2901 - val_loss: 19.0001 - val_categorical_accuracy: 0.0065\n",
      "Epoch 65/300\n",
      "310/310 [==============================] - 181s 583ms/step - loss: 3.0284 - categorical_accuracy: 0.2886 - val_loss: 9.1742 - val_categorical_accuracy: 0.0190\n",
      "Epoch 66/300\n",
      "310/310 [==============================] - 177s 570ms/step - loss: 3.0636 - categorical_accuracy: 0.2934 - val_loss: 14.6788 - val_categorical_accuracy: 0.0149\n",
      "Epoch 67/300\n",
      "310/310 [==============================] - 179s 579ms/step - loss: 3.1536 - categorical_accuracy: 0.2863 - val_loss: 23.7302 - val_categorical_accuracy: 0.0125\n",
      "Epoch 68/300\n",
      "310/310 [==============================] - 185s 596ms/step - loss: 3.1626 - categorical_accuracy: 0.2902 - val_loss: 16.5618 - val_categorical_accuracy: 0.0166\n",
      "Epoch 69/300\n",
      "310/310 [==============================] - 186s 600ms/step - loss: 3.0381 - categorical_accuracy: 0.2938 - val_loss: 13.6376 - val_categorical_accuracy: 0.0121\n",
      "Epoch 70/300\n",
      "310/310 [==============================] - 185s 596ms/step - loss: 3.0380 - categorical_accuracy: 0.2961 - val_loss: 7.2058 - val_categorical_accuracy: 0.0525\n",
      "Epoch 71/300\n",
      "310/310 [==============================] - 180s 580ms/step - loss: 2.9125 - categorical_accuracy: 0.3024 - val_loss: 9.1903 - val_categorical_accuracy: 0.0355\n",
      "Epoch 72/300\n",
      "310/310 [==============================] - 183s 590ms/step - loss: 2.9724 - categorical_accuracy: 0.3009 - val_loss: 11.6424 - val_categorical_accuracy: 0.0133\n",
      "Epoch 73/300\n",
      "310/310 [==============================] - 187s 603ms/step - loss: 3.0249 - categorical_accuracy: 0.3011 - val_loss: 10.9930 - val_categorical_accuracy: 0.0218\n",
      "Epoch 74/300\n",
      "310/310 [==============================] - 192s 620ms/step - loss: 2.9505 - categorical_accuracy: 0.2998 - val_loss: 12.2854 - val_categorical_accuracy: 0.0198\n",
      "Epoch 75/300\n",
      "310/310 [==============================] - 189s 611ms/step - loss: 2.8998 - categorical_accuracy: 0.3192 - val_loss: 14.9585 - val_categorical_accuracy: 0.0097\n",
      "Epoch 76/300\n",
      "310/310 [==============================] - 196s 632ms/step - loss: 2.9729 - categorical_accuracy: 0.3074 - val_loss: 7.2229 - val_categorical_accuracy: 0.0521\n",
      "Epoch 77/300\n",
      "310/310 [==============================] - 188s 607ms/step - loss: 2.9216 - categorical_accuracy: 0.3074 - val_loss: 10.6125 - val_categorical_accuracy: 0.0242\n",
      "Epoch 78/300\n",
      "310/310 [==============================] - 182s 588ms/step - loss: 3.0625 - categorical_accuracy: 0.3103 - val_loss: 16.6729 - val_categorical_accuracy: 0.0234\n",
      "Epoch 79/300\n",
      "310/310 [==============================] - 274s 884ms/step - loss: 3.0121 - categorical_accuracy: 0.3090 - val_loss: 16.5314 - val_categorical_accuracy: 0.0186\n",
      "Epoch 80/300\n",
      "310/310 [==============================] - 230s 742ms/step - loss: 2.9853 - categorical_accuracy: 0.3115 - val_loss: 14.7346 - val_categorical_accuracy: 0.0145\n",
      "Epoch 81/300\n",
      "310/310 [==============================] - 320s 1s/step - loss: 3.0664 - categorical_accuracy: 0.3041 - val_loss: 10.5226 - val_categorical_accuracy: 0.0218\n",
      "Epoch 82/300\n",
      "310/310 [==============================] - 307s 989ms/step - loss: 2.8809 - categorical_accuracy: 0.3200 - val_loss: 7.7444 - val_categorical_accuracy: 0.0630\n",
      "Epoch 83/300\n",
      "310/310 [==============================] - 308s 993ms/step - loss: 2.8621 - categorical_accuracy: 0.3325 - val_loss: 15.3356 - val_categorical_accuracy: 0.0198\n",
      "Epoch 84/300\n",
      "310/310 [==============================] - 308s 995ms/step - loss: 2.8791 - categorical_accuracy: 0.3201 - val_loss: 13.0594 - val_categorical_accuracy: 0.0174\n",
      "Epoch 85/300\n",
      "310/310 [==============================] - 308s 992ms/step - loss: 2.8020 - categorical_accuracy: 0.3342 - val_loss: 14.6760 - val_categorical_accuracy: 0.0121\n",
      "Epoch 86/300\n",
      "310/310 [==============================] - 310s 1s/step - loss: 2.8783 - categorical_accuracy: 0.3246 - val_loss: 10.6811 - val_categorical_accuracy: 0.0206\n",
      "Epoch 87/300\n",
      "310/310 [==============================] - 315s 1s/step - loss: 2.8333 - categorical_accuracy: 0.3329 - val_loss: 20.7280 - val_categorical_accuracy: 0.0069\n",
      "Epoch 88/300\n",
      "310/310 [==============================] - 314s 1s/step - loss: 2.8954 - categorical_accuracy: 0.3343 - val_loss: 6.8027 - val_categorical_accuracy: 0.0666\n",
      "Epoch 89/300\n",
      "310/310 [==============================] - 313s 1s/step - loss: 2.8121 - categorical_accuracy: 0.3357 - val_loss: 15.8975 - val_categorical_accuracy: 0.0085\n",
      "Epoch 90/300\n",
      "310/310 [==============================] - 315s 1s/step - loss: 2.8626 - categorical_accuracy: 0.3363 - val_loss: 16.7376 - val_categorical_accuracy: 0.0153\n",
      "Epoch 91/300\n",
      "310/310 [==============================] - 320s 1s/step - loss: 2.8904 - categorical_accuracy: 0.3264 - val_loss: 19.0829 - val_categorical_accuracy: 0.0202\n",
      "Epoch 92/300\n",
      "310/310 [==============================] - 318s 1s/step - loss: 2.7882 - categorical_accuracy: 0.3503 - val_loss: 10.2298 - val_categorical_accuracy: 0.0129\n",
      "Epoch 93/300\n",
      "310/310 [==============================] - 314s 1s/step - loss: 2.7711 - categorical_accuracy: 0.3463 - val_loss: 10.9718 - val_categorical_accuracy: 0.0178\n",
      "Epoch 94/300\n",
      "310/310 [==============================] - 318s 1s/step - loss: 5.4827 - categorical_accuracy: 0.2459 - val_loss: 41.1982 - val_categorical_accuracy: 0.0113\n",
      "Epoch 95/300\n",
      "310/310 [==============================] - 309s 997ms/step - loss: 11.3691 - categorical_accuracy: 0.0576 - val_loss: 12.8706 - val_categorical_accuracy: 0.0093\n",
      "Epoch 96/300\n",
      "310/310 [==============================] - 304s 979ms/step - loss: 9.6823 - categorical_accuracy: 0.0823 - val_loss: 11.6902 - val_categorical_accuracy: 0.0218\n",
      "Epoch 97/300\n",
      "218/310 [====================>.........] - ETA: 4:00 - loss: 8.9574 - categorical_accuracy: 0.0982"
     ]
    }
   ],
   "source": [
    "6\n",
    "history=model.fit(X_train, y_train, epochs=300, callbacks=[tb_callback], validation_split=0.2)"
   ]
  },
  {
   "cell_type": "code",
   "execution_count": null,
   "metadata": {},
   "outputs": [
    {
     "name": "stdout",
     "output_type": "stream",
     "text": [
      "Model: \"sequential_2\"\n",
      "_________________________________________________________________\n",
      " Layer (type)                Output Shape              Param #   \n",
      "=================================================================\n",
      " lstm_6 (LSTM)               (None, 30, 64)            442112    \n",
      "                                                                 \n",
      " lstm_7 (LSTM)               (None, 30, 128)           98816     \n",
      "                                                                 \n",
      " lstm_8 (LSTM)               (None, 64)                49408     \n",
      "                                                                 \n",
      " dense_5 (Dense)             (None, 64)                4160      \n",
      "                                                                 \n",
      " dense_6 (Dense)             (None, 32)                2080      \n",
      "                                                                 \n",
      " dense_7 (Dense)             (None, 13)                429       \n",
      "                                                                 \n",
      "=================================================================\n",
      "Total params: 597005 (2.28 MB)\n",
      "Trainable params: 597005 (2.28 MB)\n",
      "Non-trainable params: 0 (0.00 Byte)\n",
      "_________________________________________________________________\n"
     ]
    }
   ],
   "source": [
    "model.summary()"
   ]
  },
  {
   "cell_type": "code",
   "execution_count": null,
   "metadata": {},
   "outputs": [
    {
     "ename": "TypeError",
     "evalue": "'History' object is not callable",
     "output_type": "error",
     "traceback": [
      "\u001b[1;31m---------------------------------------------------------------------------\u001b[0m",
      "\u001b[1;31mTypeError\u001b[0m                                 Traceback (most recent call last)",
      "\u001b[1;32mc:\\Msc DS\\SignLanguageDetection\\Model.ipynb Cell 19\u001b[0m line \u001b[0;36m1\n\u001b[1;32m----> <a href='vscode-notebook-cell:/c%3A/Msc%20DS/SignLanguageDetection/Model.ipynb#X24sZmlsZQ%3D%3D?line=0'>1</a>\u001b[0m model\u001b[39m.\u001b[39;49mhistory()\n",
      "\u001b[1;31mTypeError\u001b[0m: 'History' object is not callable"
     ]
    }
   ],
   "source": [
    "os.chdir(\"C:\\\\Users\\\\sumen\\\\Downloads\\\\Final_Project\\\\modelweights\")\n",
    "import pandas as pd\n",
    "hist_df = pd.DataFrame(history.history) \n",
    "hist_csv_file = 'single_model_history_with_valloss_doubled.csv'\n",
    "with open(hist_csv_file, mode='w') as f:\n",
    "    hist_df.to_csv(f)"
   ]
  },
  {
   "cell_type": "code",
   "execution_count": null,
   "metadata": {},
   "outputs": [],
   "source": [
    "model.save('singlemodel_withvalloss_doubled.keras')"
   ]
  },
  {
   "cell_type": "code",
   "execution_count": null,
   "metadata": {},
   "outputs": [],
   "source": [
    "train_acc=history.history['categorical_accuracy']\n",
    "train_loss=history.history['loss']\n",
    "val_acc=history.history['val_categorical_accuracy']\n",
    "train_loss=history.history['val_loss']"
   ]
  },
  {
   "cell_type": "code",
   "execution_count": null,
   "metadata": {},
   "outputs": [],
   "source": [
    "model.save('singlemodel_withvalloss_doubled.h5')"
   ]
  },
  {
   "cell_type": "code",
   "execution_count": null,
   "metadata": {},
   "outputs": [
    {
     "name": "stdout",
     "output_type": "stream",
     "text": [
      "1/1 [==============================] - 1s 814ms/step\n"
     ]
    }
   ],
   "source": [
    "yhat = model.predict(X_test)"
   ]
  },
  {
   "cell_type": "code",
   "execution_count": null,
   "metadata": {},
   "outputs": [],
   "source": [
    "ytrue = np.argmax(y_test, axis=1).tolist()\n",
    "yhat = np.argmax(yhat, axis=1).tolist()"
   ]
  },
  {
   "cell_type": "code",
   "execution_count": null,
   "metadata": {},
   "outputs": [
    {
     "data": {
      "text/plain": [
       "array([[[19,  1],\n",
       "        [ 0,  0]],\n",
       "\n",
       "       [[19,  0],\n",
       "        [ 0,  1]],\n",
       "\n",
       "       [[19,  0],\n",
       "        [ 0,  1]],\n",
       "\n",
       "       [[18,  0],\n",
       "        [ 0,  2]],\n",
       "\n",
       "       [[19,  0],\n",
       "        [ 0,  1]],\n",
       "\n",
       "       [[16,  0],\n",
       "        [ 0,  4]],\n",
       "\n",
       "       [[19,  0],\n",
       "        [ 1,  0]],\n",
       "\n",
       "       [[19,  0],\n",
       "        [ 0,  1]],\n",
       "\n",
       "       [[14,  0],\n",
       "        [ 0,  6]],\n",
       "\n",
       "       [[17,  0],\n",
       "        [ 1,  2]],\n",
       "\n",
       "       [[19,  1],\n",
       "        [ 0,  0]]], dtype=int64)"
      ]
     },
     "execution_count": 63,
     "metadata": {},
     "output_type": "execute_result"
    }
   ],
   "source": [
    "multilabel_confusion_matrix(ytrue, yhat)"
   ]
  },
  {
   "cell_type": "code",
   "execution_count": null,
   "metadata": {},
   "outputs": [
    {
     "data": {
      "text/plain": [
       "0.9"
      ]
     },
     "execution_count": 64,
     "metadata": {},
     "output_type": "execute_result"
    }
   ],
   "source": [
    "accuracy_score(ytrue, yhat)"
   ]
  },
  {
   "cell_type": "code",
   "execution_count": null,
   "metadata": {},
   "outputs": [],
   "source": []
  }
 ],
 "metadata": {
  "kernelspec": {
   "display_name": "handsign",
   "language": "python",
   "name": "python3"
  },
  "language_info": {
   "codemirror_mode": {
    "name": "ipython",
    "version": 3
   },
   "file_extension": ".py",
   "mimetype": "text/x-python",
   "name": "python",
   "nbconvert_exporter": "python",
   "pygments_lexer": "ipython3",
   "version": "3.10.0"
  }
 },
 "nbformat": 4,
 "nbformat_minor": 2
}
